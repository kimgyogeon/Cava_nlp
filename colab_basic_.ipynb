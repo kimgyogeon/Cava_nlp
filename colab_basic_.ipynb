{
  "nbformat": 4,
  "nbformat_minor": 0,
  "metadata": {
    "colab": {
      "name": "colab_basic_.ipynb",
      "provenance": [],
      "collapsed_sections": [],
      "mount_file_id": "14k_BTjI6B2U_OH9O_VARGc5nnlQL29iX",
      "authorship_tag": "ABX9TyOrAuJW5dS2B1ZNyUapexTA",
      "include_colab_link": true
    },
    "kernelspec": {
      "name": "python3",
      "display_name": "Python 3"
    },
    "accelerator": "GPU"
  },
  "cells": [
    {
      "cell_type": "markdown",
      "metadata": {
        "id": "view-in-github",
        "colab_type": "text"
      },
      "source": [
        "<a href=\"https://colab.research.google.com/github/kimgyogeon/Cava_nlp/blob/main/colab_basic_.ipynb\" target=\"_parent\"><img src=\"https://colab.research.google.com/assets/colab-badge.svg\" alt=\"Open In Colab\"/></a>"
      ]
    },
    {
      "cell_type": "markdown",
      "metadata": {
        "id": "d0RKdBsJx8vw"
      },
      "source": [
        "[github site]https://github.com/kimgyogeon/Cava_nlp"
      ]
    },
    {
      "cell_type": "code",
      "metadata": {
        "colab": {
          "base_uri": "https://localhost:8080/",
          "height": 35
        },
        "id": "VDd31YiedSWf",
        "outputId": "b6814081-cb85-4f26-9087-fb76ccf054b5"
      },
      "source": [
        "import platform \r\n",
        "platform.platform()"
      ],
      "execution_count": 1,
      "outputs": [
        {
          "output_type": "execute_result",
          "data": {
            "application/vnd.google.colaboratory.intrinsic+json": {
              "type": "string"
            },
            "text/plain": [
              "'Linux-4.19.112+-x86_64-with-Ubuntu-18.04-bionic'"
            ]
          },
          "metadata": {
            "tags": []
          },
          "execution_count": 1
        }
      ]
    },
    {
      "cell_type": "code",
      "metadata": {
        "colab": {
          "base_uri": "https://localhost:8080/"
        },
        "id": "4PfGbpAoe6sl",
        "outputId": "87fc835f-7663-4f42-f3fd-0c9dac80959b"
      },
      "source": [
        "print('hello')"
      ],
      "execution_count": 2,
      "outputs": [
        {
          "output_type": "stream",
          "text": [
            "hello\n"
          ],
          "name": "stdout"
        }
      ]
    },
    {
      "cell_type": "code",
      "metadata": {
        "colab": {
          "base_uri": "https://localhost:8080/"
        },
        "id": "0vbxTDvNe-v3",
        "outputId": "5e51868b-4f6c-4df9-d812-e614f5b732cd"
      },
      "source": [
        "!cat /etc/issue.net"
      ],
      "execution_count": 3,
      "outputs": [
        {
          "output_type": "stream",
          "text": [
            "Ubuntu 18.04.5 LTS\n"
          ],
          "name": "stdout"
        }
      ]
    },
    {
      "cell_type": "code",
      "metadata": {
        "id": "zDDT_WeUfKza"
      },
      "source": [
        "!cat /proc/cpuinfo"
      ],
      "execution_count": null,
      "outputs": []
    },
    {
      "cell_type": "code",
      "metadata": {
        "id": "-O5wckygfggp"
      },
      "source": [
        "!cat /proc/meminfo"
      ],
      "execution_count": null,
      "outputs": []
    },
    {
      "cell_type": "code",
      "metadata": {
        "colab": {
          "base_uri": "https://localhost:8080/"
        },
        "id": "tLhxiG5Ef9DJ",
        "outputId": "b6f98da3-72b6-467c-bb62-34d27cea5954"
      },
      "source": [
        "!nvidia-smi"
      ],
      "execution_count": 8,
      "outputs": [
        {
          "output_type": "stream",
          "text": [
            "Wed Mar  3 00:32:38 2021       \n",
            "+-----------------------------------------------------------------------------+\n",
            "| NVIDIA-SMI 460.39       Driver Version: 460.32.03    CUDA Version: 11.2     |\n",
            "|-------------------------------+----------------------+----------------------+\n",
            "| GPU  Name        Persistence-M| Bus-Id        Disp.A | Volatile Uncorr. ECC |\n",
            "| Fan  Temp  Perf  Pwr:Usage/Cap|         Memory-Usage | GPU-Util  Compute M. |\n",
            "|                               |                      |               MIG M. |\n",
            "|===============================+======================+======================|\n",
            "|   0  Tesla T4            Off  | 00000000:00:04.0 Off |                    0 |\n",
            "| N/A   35C    P8     9W /  70W |      0MiB / 15109MiB |      0%      Default |\n",
            "|                               |                      |                  N/A |\n",
            "+-------------------------------+----------------------+----------------------+\n",
            "                                                                               \n",
            "+-----------------------------------------------------------------------------+\n",
            "| Processes:                                                                  |\n",
            "|  GPU   GI   CI        PID   Type   Process name                  GPU Memory |\n",
            "|        ID   ID                                                   Usage      |\n",
            "|=============================================================================|\n",
            "|  No running processes found                                                 |\n",
            "+-----------------------------------------------------------------------------+\n"
          ],
          "name": "stdout"
        }
      ]
    },
    {
      "cell_type": "code",
      "metadata": {
        "colab": {
          "base_uri": "https://localhost:8080/"
        },
        "id": "MNcLGfXxgoVd",
        "outputId": "c29f0526-ab03-4a71-ddeb-db25127963ee"
      },
      "source": [
        "# magic command\r\n",
        "%%writefile test.py\r\n",
        "print('Hello Colab')"
      ],
      "execution_count": 9,
      "outputs": [
        {
          "output_type": "stream",
          "text": [
            "Writing test.py\n"
          ],
          "name": "stdout"
        }
      ]
    },
    {
      "cell_type": "code",
      "metadata": {
        "colab": {
          "base_uri": "https://localhost:8080/"
        },
        "id": "bthOvr8chIt7",
        "outputId": "35604980-f42b-444a-918d-ab2aa63df556"
      },
      "source": [
        "!pwd"
      ],
      "execution_count": 11,
      "outputs": [
        {
          "output_type": "stream",
          "text": [
            "/content\n"
          ],
          "name": "stdout"
        }
      ]
    },
    {
      "cell_type": "code",
      "metadata": {
        "colab": {
          "base_uri": "https://localhost:8080/"
        },
        "id": "xWhXIPoBh712",
        "outputId": "dcc9326e-abff-4cb6-93f3-c6627ed56733"
      },
      "source": [
        "#파이썬 파일 실행\r\n",
        "%run test.py"
      ],
      "execution_count": 12,
      "outputs": [
        {
          "output_type": "stream",
          "text": [
            "Hello Colab\n"
          ],
          "name": "stdout"
        }
      ]
    },
    {
      "cell_type": "code",
      "metadata": {
        "colab": {
          "base_uri": "https://localhost:8080/"
        },
        "id": "UsNBO_vfiaZF",
        "outputId": "5b8073bd-37fe-414f-ae0b-30dc636ea532"
      },
      "source": [
        "# esc + b = 새로운 작성가능\r\n",
        "# 코드 실행 시간: 한줄 \r\n",
        "%timeit li = [n ** n for n bin range(10000)]"
      ],
      "execution_count": 14,
      "outputs": [
        {
          "output_type": "stream",
          "text": [
            "1 loop, best of 5: 5.09 s per loop\n"
          ],
          "name": "stdout"
        }
      ]
    },
    {
      "cell_type": "code",
      "metadata": {
        "colab": {
          "base_uri": "https://localhost:8080/"
        },
        "id": "rHAZU2xajFw7",
        "outputId": "e0d72da0-1403-45df-adce-962a32c86b02"
      },
      "source": [
        "# 코드 실행시간 : 여러 줄\r\n",
        "%%timeit\r\n",
        "li = []\r\n",
        "for n in range(10000):\r\n",
        "  li.append(n ** n)"
      ],
      "execution_count": 15,
      "outputs": [
        {
          "output_type": "stream",
          "text": [
            "1 loop, best of 5: 5.08 s per loop\n"
          ],
          "name": "stdout"
        }
      ]
    },
    {
      "cell_type": "code",
      "metadata": {
        "colab": {
          "base_uri": "https://localhost:8080/",
          "height": 35
        },
        "id": "5nul7OB8jkls",
        "outputId": "4c3b9035-cf53-46aa-cfe7-fa36fe6a4728"
      },
      "source": [
        "In[9]"
      ],
      "execution_count": 16,
      "outputs": [
        {
          "output_type": "execute_result",
          "data": {
            "application/vnd.google.colaboratory.intrinsic+json": {
              "type": "string"
            },
            "text/plain": [
              "'get_ipython().run_cell_magic(\\'writefile\\', \\'test.py\\', \"print(\\'Hello Colab\\')\")'"
            ]
          },
          "metadata": {
            "tags": []
          },
          "execution_count": 16
        }
      ]
    },
    {
      "cell_type": "code",
      "metadata": {
        "colab": {
          "base_uri": "https://localhost:8080/"
        },
        "id": "EqKyz8f1kHJr",
        "outputId": "c5890ddb-e5b4-4662-dfec-5f3357fe75cf"
      },
      "source": [
        "%history -n 2-5"
      ],
      "execution_count": 17,
      "outputs": [
        {
          "output_type": "stream",
          "text": [
            "   2: print('hello')\n",
            "   3: !cat /etc/issue.net\n",
            "   4: !cat /proc/cpuinfo\n",
            "   5: !cat /etc/meminfo\n"
          ],
          "name": "stdout"
        }
      ]
    },
    {
      "cell_type": "code",
      "metadata": {
        "id": "vOixHI6pnO7C"
      },
      "source": [
        "[magic command] (http: #링크걸면 걸림)"
      ],
      "execution_count": null,
      "outputs": []
    },
    {
      "cell_type": "code",
      "metadata": {
        "colab": {
          "base_uri": "https://localhost:8080/"
        },
        "id": "qX8Zk570njOt",
        "outputId": "f274065b-a0b2-415a-84c9-89f4e1712a50"
      },
      "source": [
        "%rerun"
      ],
      "execution_count": 18,
      "outputs": [
        {
          "output_type": "stream",
          "text": [
            "=== Executing: ===\n",
            "%history -n 2-5\n",
            "=== Output: ===\n",
            "   2: print('hello')\n",
            "   3: !cat /etc/issue.net\n",
            "   4: !cat /proc/cpuinfo\n",
            "   5: !cat /etc/meminfo\n"
          ],
          "name": "stdout"
        }
      ]
    },
    {
      "cell_type": "markdown",
      "metadata": {
        "id": "sophVPSfn5hY"
      },
      "source": [
        "Shell command\r\n",
        "- 텍스트 기반의 셀 명령어 처리\r\n",
        "- !문자를 명령어 앞에 붙여서 셀 명령어 사용가능\r\n",
        "- ls : 디렉토리 리스트 보기"
      ]
    },
    {
      "cell_type": "code",
      "metadata": {
        "colab": {
          "base_uri": "https://localhost:8080/"
        },
        "id": "qTXaN3IxoIlH",
        "outputId": "b880c821-9097-48d0-e308-481e750bda6a"
      },
      "source": [
        "# 디렉토리 목록 확인\r\n",
        "# !ls # 그냥보기\r\n",
        "# !ls -l # 상세보기\r\n",
        "# !ls -al #더 상세보기"
      ],
      "execution_count": 22,
      "outputs": [
        {
          "output_type": "stream",
          "text": [
            "total 24\n",
            "drwxr-xr-x 1 root root 4096 Mar  3 00:37 .\n",
            "drwxr-xr-x 1 root root 4096 Mar  3 00:20 ..\n",
            "drwxr-xr-x 4 root root 4096 Mar  1 14:35 .config\n",
            "drwx------ 4 root root 4096 Mar  3 00:23 drive\n",
            "drwxr-xr-x 1 root root 4096 Mar  1 14:35 sample_data\n",
            "-rw-r--r-- 1 root root   20 Mar  3 00:37 test.py\n"
          ],
          "name": "stdout"
        }
      ]
    },
    {
      "cell_type": "code",
      "metadata": {
        "colab": {
          "base_uri": "https://localhost:8080/"
        },
        "id": "RkFQtbWXou5n",
        "outputId": "1b7b9a98-21fd-4658-ab18-f1811b8dcc63"
      },
      "source": [
        "# cd: 디렉토리 변경\r\n",
        "!cd sample_data && ls"
      ],
      "execution_count": 23,
      "outputs": [
        {
          "output_type": "stream",
          "text": [
            "anscombe.json\t\t      mnist_test.csv\n",
            "california_housing_test.csv   mnist_train_small.csv\n",
            "california_housing_train.csv  README.md\n"
          ],
          "name": "stdout"
        }
      ]
    },
    {
      "cell_type": "code",
      "metadata": {
        "colab": {
          "base_uri": "https://localhost:8080/"
        },
        "id": "IihCKgZEpEYQ",
        "outputId": "8e0151ea-c253-4f7b-df1d-7677ee89f804"
      },
      "source": [
        "%cd sample_data #임시로 위치변경시켜줌 제대로할라면 매직명령어?써야함"
      ],
      "execution_count": 25,
      "outputs": [
        {
          "output_type": "stream",
          "text": [
            "/content/sample_data\n"
          ],
          "name": "stdout"
        }
      ]
    },
    {
      "cell_type": "code",
      "metadata": {
        "colab": {
          "base_uri": "https://localhost:8080/"
        },
        "id": "TIUwxdMYpS3D",
        "outputId": "75973913-1911-4d53-e0f4-19ec3af62f06"
      },
      "source": [
        "!pwd"
      ],
      "execution_count": 26,
      "outputs": [
        {
          "output_type": "stream",
          "text": [
            "/content/sample_data\n"
          ],
          "name": "stdout"
        }
      ]
    },
    {
      "cell_type": "code",
      "metadata": {
        "colab": {
          "base_uri": "https://localhost:8080/"
        },
        "id": "oC52WR6TpagC",
        "outputId": "13a090fe-b545-4a19-d2c1-0a206c805b46"
      },
      "source": [
        "%cd .. #위로 복귀시키려면 ..입력하면됌"
      ],
      "execution_count": 27,
      "outputs": [
        {
          "output_type": "stream",
          "text": [
            "/content\n"
          ],
          "name": "stdout"
        }
      ]
    },
    {
      "cell_type": "code",
      "metadata": {
        "colab": {
          "base_uri": "https://localhost:8080/"
        },
        "id": "FqjyuyJlpimI",
        "outputId": "d5c61ddc-a080-462b-dc18-43956479bc1b"
      },
      "source": [
        "# 화면 출력\r\n",
        "!echo \"Shell\""
      ],
      "execution_count": 30,
      "outputs": [
        {
          "output_type": "stream",
          "text": [
            "Shell\n"
          ],
          "name": "stdout"
        }
      ]
    },
    {
      "cell_type": "code",
      "metadata": {
        "id": "_YHkd5japwMZ"
      },
      "source": [
        "#디렉토리 생성\r\n",
        "!mkdir data"
      ],
      "execution_count": 31,
      "outputs": []
    },
    {
      "cell_type": "code",
      "metadata": {
        "colab": {
          "base_uri": "https://localhost:8080/"
        },
        "id": "dtkRjUwAqD9N",
        "outputId": "fde3eda3-4929-4bf5-bd38-d65e0ab28271"
      },
      "source": [
        "!ls"
      ],
      "execution_count": 33,
      "outputs": [
        {
          "output_type": "stream",
          "text": [
            "data  drive  sample_data  test.py\n"
          ],
          "name": "stdout"
        }
      ]
    },
    {
      "cell_type": "code",
      "metadata": {
        "colab": {
          "base_uri": "https://localhost:8080/"
        },
        "id": "6cvvATIXqS3q",
        "outputId": "48d04939-8fd7-436a-c8e1-cb00d04858f7"
      },
      "source": [
        "!cat README.md"
      ],
      "execution_count": 34,
      "outputs": [
        {
          "output_type": "stream",
          "text": [
            "cat: README.md: No such file or directory\n"
          ],
          "name": "stdout"
        }
      ]
    },
    {
      "cell_type": "code",
      "metadata": {
        "colab": {
          "base_uri": "https://localhost:8080/"
        },
        "id": "bIhPdgDpqgUH",
        "outputId": "590f41ef-4707-4753-adf9-0e541900b3c1"
      },
      "source": [
        "# cp : 디렉토리 / 파일 복사\r\n",
        "!cp README.md data"
      ],
      "execution_count": 35,
      "outputs": [
        {
          "output_type": "stream",
          "text": [
            "cp: cannot stat 'README.md': No such file or directory\n"
          ],
          "name": "stdout"
        }
      ]
    },
    {
      "cell_type": "code",
      "metadata": {
        "colab": {
          "base_uri": "https://localhost:8080/"
        },
        "id": "vMiMUQJZq221",
        "outputId": "024775a7-af7b-4e8b-b861-ce18fc78798b"
      },
      "source": [
        "!cp README.md data"
      ],
      "execution_count": 36,
      "outputs": [
        {
          "output_type": "stream",
          "text": [
            "cp: cannot stat 'README.md': No such file or directory\n"
          ],
          "name": "stdout"
        }
      ]
    },
    {
      "cell_type": "code",
      "metadata": {
        "colab": {
          "base_uri": "https://localhost:8080/"
        },
        "id": "_D2kjV2MrG-b",
        "outputId": "92383de4-9d6d-4b6e-caac-30b505629068"
      },
      "source": [
        "!mkdlr data"
      ],
      "execution_count": 37,
      "outputs": [
        {
          "output_type": "stream",
          "text": [
            "/bin/bash: mkdlr: command not found\n"
          ],
          "name": "stdout"
        }
      ]
    },
    {
      "cell_type": "code",
      "metadata": {
        "colab": {
          "base_uri": "https://localhost:8080/"
        },
        "id": "SYoNLj7ftM7y",
        "outputId": "6f9a65ac-2424-4b00-f6ef-a3e559c7a0c3"
      },
      "source": [
        "!ls"
      ],
      "execution_count": 38,
      "outputs": [
        {
          "output_type": "stream",
          "text": [
            "data  drive  sample_data  test.py\n"
          ],
          "name": "stdout"
        }
      ]
    },
    {
      "cell_type": "code",
      "metadata": {
        "colab": {
          "base_uri": "https://localhost:8080/"
        },
        "id": "148Y3fW5tP0O",
        "outputId": "c2b5ece8-14c7-4beb-af16-671fe9428b77"
      },
      "source": [
        "!cp README.md data"
      ],
      "execution_count": 39,
      "outputs": [
        {
          "output_type": "stream",
          "text": [
            "cp: cannot stat 'README.md': No such file or directory\n"
          ],
          "name": "stdout"
        }
      ]
    },
    {
      "cell_type": "code",
      "metadata": {
        "colab": {
          "base_uri": "https://localhost:8080/"
        },
        "id": "qwTOLHvttU6L",
        "outputId": "a5bd2127-830f-440b-93ad-e6165b1cb7aa"
      },
      "source": [
        "#파일크기가 0인 파일 생성\r\n",
        "!touch test.txt && ls "
      ],
      "execution_count": 41,
      "outputs": [
        {
          "output_type": "stream",
          "text": [
            "data  drive  sample_data  test.py  test.txt\n"
          ],
          "name": "stdout"
        }
      ]
    },
    {
      "cell_type": "code",
      "metadata": {
        "colab": {
          "base_uri": "https://localhost:8080/"
        },
        "id": "dEFGVSPKuzGx",
        "outputId": "029fbb3a-3a5a-4e41-953d-4a81ac25d750"
      },
      "source": [
        "#파일 삭제\r\n",
        "!rm test.txt && ls"
      ],
      "execution_count": 42,
      "outputs": [
        {
          "output_type": "stream",
          "text": [
            "data  drive  sample_data  test.py\n"
          ],
          "name": "stdout"
        }
      ]
    },
    {
      "cell_type": "code",
      "metadata": {
        "colab": {
          "base_uri": "https://localhost:8080/"
        },
        "id": "6dSqnWH_vBNu",
        "outputId": "bd559be6-7fff-47de-bd3f-bbfa09ea18af"
      },
      "source": [
        "!python --version"
      ],
      "execution_count": 43,
      "outputs": [
        {
          "output_type": "stream",
          "text": [
            "Python 3.7.10\n"
          ],
          "name": "stdout"
        }
      ]
    },
    {
      "cell_type": "code",
      "metadata": {
        "colab": {
          "base_uri": "https://localhost:8080/",
          "height": 224
        },
        "id": "2I28At-KvEHw",
        "outputId": "f352b144-97aa-4e49-8611-04e801893b1b"
      },
      "source": [
        "import pandas as pd\r\n",
        "df = pd.read_csv('sample_data/california_housing_test.csv')\r\n",
        "df.head()"
      ],
      "execution_count": 45,
      "outputs": [
        {
          "output_type": "execute_result",
          "data": {
            "text/html": [
              "<div>\n",
              "<style scoped>\n",
              "    .dataframe tbody tr th:only-of-type {\n",
              "        vertical-align: middle;\n",
              "    }\n",
              "\n",
              "    .dataframe tbody tr th {\n",
              "        vertical-align: top;\n",
              "    }\n",
              "\n",
              "    .dataframe thead th {\n",
              "        text-align: right;\n",
              "    }\n",
              "</style>\n",
              "<table border=\"1\" class=\"dataframe\">\n",
              "  <thead>\n",
              "    <tr style=\"text-align: right;\">\n",
              "      <th></th>\n",
              "      <th>longitude</th>\n",
              "      <th>latitude</th>\n",
              "      <th>housing_median_age</th>\n",
              "      <th>total_rooms</th>\n",
              "      <th>total_bedrooms</th>\n",
              "      <th>population</th>\n",
              "      <th>households</th>\n",
              "      <th>median_income</th>\n",
              "      <th>median_house_value</th>\n",
              "    </tr>\n",
              "  </thead>\n",
              "  <tbody>\n",
              "    <tr>\n",
              "      <th>0</th>\n",
              "      <td>-122.05</td>\n",
              "      <td>37.37</td>\n",
              "      <td>27.0</td>\n",
              "      <td>3885.0</td>\n",
              "      <td>661.0</td>\n",
              "      <td>1537.0</td>\n",
              "      <td>606.0</td>\n",
              "      <td>6.6085</td>\n",
              "      <td>344700.0</td>\n",
              "    </tr>\n",
              "    <tr>\n",
              "      <th>1</th>\n",
              "      <td>-118.30</td>\n",
              "      <td>34.26</td>\n",
              "      <td>43.0</td>\n",
              "      <td>1510.0</td>\n",
              "      <td>310.0</td>\n",
              "      <td>809.0</td>\n",
              "      <td>277.0</td>\n",
              "      <td>3.5990</td>\n",
              "      <td>176500.0</td>\n",
              "    </tr>\n",
              "    <tr>\n",
              "      <th>2</th>\n",
              "      <td>-117.81</td>\n",
              "      <td>33.78</td>\n",
              "      <td>27.0</td>\n",
              "      <td>3589.0</td>\n",
              "      <td>507.0</td>\n",
              "      <td>1484.0</td>\n",
              "      <td>495.0</td>\n",
              "      <td>5.7934</td>\n",
              "      <td>270500.0</td>\n",
              "    </tr>\n",
              "    <tr>\n",
              "      <th>3</th>\n",
              "      <td>-118.36</td>\n",
              "      <td>33.82</td>\n",
              "      <td>28.0</td>\n",
              "      <td>67.0</td>\n",
              "      <td>15.0</td>\n",
              "      <td>49.0</td>\n",
              "      <td>11.0</td>\n",
              "      <td>6.1359</td>\n",
              "      <td>330000.0</td>\n",
              "    </tr>\n",
              "    <tr>\n",
              "      <th>4</th>\n",
              "      <td>-119.67</td>\n",
              "      <td>36.33</td>\n",
              "      <td>19.0</td>\n",
              "      <td>1241.0</td>\n",
              "      <td>244.0</td>\n",
              "      <td>850.0</td>\n",
              "      <td>237.0</td>\n",
              "      <td>2.9375</td>\n",
              "      <td>81700.0</td>\n",
              "    </tr>\n",
              "  </tbody>\n",
              "</table>\n",
              "</div>"
            ],
            "text/plain": [
              "   longitude  latitude  ...  median_income  median_house_value\n",
              "0    -122.05     37.37  ...         6.6085            344700.0\n",
              "1    -118.30     34.26  ...         3.5990            176500.0\n",
              "2    -117.81     33.78  ...         5.7934            270500.0\n",
              "3    -118.36     33.82  ...         6.1359            330000.0\n",
              "4    -119.67     36.33  ...         2.9375             81700.0\n",
              "\n",
              "[5 rows x 9 columns]"
            ]
          },
          "metadata": {
            "tags": []
          },
          "execution_count": 45
        }
      ]
    },
    {
      "cell_type": "code",
      "metadata": {
        "id": "i4a1gZZzwLBI"
      },
      "source": [
        "li=['one','two','three']\r\n",
        "li?"
      ],
      "execution_count": 46,
      "outputs": []
    },
    {
      "cell_type": "code",
      "metadata": {
        "id": "aD6_bD4xwTek"
      },
      "source": [
        "li.count?"
      ],
      "execution_count": 47,
      "outputs": []
    },
    {
      "cell_type": "code",
      "metadata": {
        "id": "Ue6u32x4wi1N"
      },
      "source": [
        "def power(b,n):\r\n",
        "  \"\"\"b의 n승을 반환\"\"\"\r\n",
        "  return pow(b,n)\r\n",
        "  "
      ],
      "execution_count": 48,
      "outputs": []
    },
    {
      "cell_type": "code",
      "metadata": {
        "id": "5B3kC13Ywwqu"
      },
      "source": [
        "#shift + enter = 바로 실행하고 아래 새로생성"
      ],
      "execution_count": 49,
      "outputs": []
    },
    {
      "cell_type": "code",
      "metadata": {
        "colab": {
          "base_uri": "https://localhost:8080/"
        },
        "id": "diXqI76jw2HZ",
        "outputId": "ccac950d-397a-4334-9c0d-68defefd17d2"
      },
      "source": [
        "pow(3,4)"
      ],
      "execution_count": 50,
      "outputs": [
        {
          "output_type": "execute_result",
          "data": {
            "text/plain": [
              "81"
            ]
          },
          "metadata": {
            "tags": []
          },
          "execution_count": 50
        }
      ]
    },
    {
      "cell_type": "code",
      "metadata": {
        "id": "6q1mSPKFw5m6"
      },
      "source": [
        "power?"
      ],
      "execution_count": 51,
      "outputs": []
    },
    {
      "cell_type": "code",
      "metadata": {
        "id": "2AZyezMCxA7e"
      },
      "source": [
        "# 탭 자동완성\r\n",
        "li = ['one','two','three']\r\n",
        "li.append('four')\r\n",
        "li.clear()"
      ],
      "execution_count": 53,
      "outputs": []
    },
    {
      "cell_type": "code",
      "metadata": {
        "id": "ZI-2dxScxXUw"
      },
      "source": [
        "#와일드 카드 매칭: 단어의 중간이나 마지막 글자로 매칭하여 객체나 속성 찾기\r\n",
        "*Error?"
      ],
      "execution_count": 55,
      "outputs": []
    },
    {
      "cell_type": "code",
      "metadata": {
        "id": "EbO0pIOqxrXh"
      },
      "source": [
        "str.*index?"
      ],
      "execution_count": 56,
      "outputs": []
    },
    {
      "cell_type": "markdown",
      "metadata": {
        "id": "vgcj0X61x5DJ"
      },
      "source": [
        ""
      ]
    }
  ]
}